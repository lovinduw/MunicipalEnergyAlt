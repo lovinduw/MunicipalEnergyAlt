{
 "cells": [
  {
   "cell_type": "code",
   "execution_count": 1,
   "metadata": {},
   "outputs": [],
   "source": [
    "import time\n",
    "import GetExperiment\n",
    "import GetData\n",
    "import CreateModel"
   ]
  },
  {
   "cell_type": "code",
   "execution_count": 2,
   "metadata": {},
   "outputs": [],
   "source": [
    "db_path=\"Other\"\n",
    "switch_industry = 1\n",
    "case_offshore = \"Offshore_S1_Expansive_existing\"\n",
    "pv_groups = 9\n",
    "experiment_name = \"casestudy_test\""
   ]
  },
  {
   "cell_type": "code",
   "execution_count": null,
   "metadata": {},
   "outputs": [],
   "source": [
    "# Get the required experiment\n",
    "print(\"Getting experiments.json...\")\n",
    "t = time.time()\n",
    "experiments = GetExperiment.get_experiment(experiment_name,db_path)\n",
    "# experiments[experiment_name][\"locations\"] = [\"053150000000\"]\n",
    "# with open(os.join.path(os.path.dirname(os.path.abspath(__file__)), \"Experiments\", \"all_mun_inclPH.json\")) as f:\n",
    "#     experiments = json.load(f)\n",
    "print(f\"Getting experiments.json took {(time.time()-t)} seconds \\n\")"
   ]
  },
  {
   "cell_type": "code",
   "execution_count": null,
   "metadata": {},
   "outputs": [],
   "source": [
    "# Get the required data\n",
    "print(\"Getting data...\")\n",
    "t = time.time()\n",
    "data = GetData.getData(locations=experiments[experiment_name][\"locations\"], \n",
    "        case_wind = experiments[experiment_name][\"case_wind\"], \n",
    "        case_ofpv = experiments[experiment_name][\"case_ofpv\"], \n",
    "        case_pv = experiments[experiment_name][\"case_pv\"], \n",
    "        case_biomass = experiments[experiment_name][\"case_biomass\"],\n",
    "        scenario_biomass = experiments[experiment_name][\"biomass\"][\"scenario\"], \n",
    "        db_path= db_path,\n",
    "        switch_industry=switch_industry,\n",
    "        sim_year = experiments[experiment_name][\"sim_year\"], \n",
    "        pv_groups = pv_groups)\n",
    "# offshoreData(case_offshore = case_offshore, db_path = db_path, sim_year = sim_year)\n",
    "print(f\"getting data successfull after {(time.time()-t)} seconds \\n\")"
   ]
  },
  {
   "cell_type": "code",
   "execution_count": null,
   "metadata": {},
   "outputs": [],
   "source": [
    "# Creating energy system model\n",
    "# import CreateModel\n",
    "print(\"Creating energy system model...\")\n",
    "t = time.time()\n",
    "esM = CreateModel.create_model(data,experiments[experiment_name],experiment_name, db_path, dataOffshore=None)\n",
    "print(f\"Energy system model created after {(time.time()-t)} seconds \\n\")"
   ]
  },
  {
   "cell_type": "code",
   "execution_count": null,
   "metadata": {},
   "outputs": [],
   "source": [
    "# Applying time series aggregation\n",
    "def apply_tsa(_esM):\n",
    "    segmentation = False\n",
    "    if bool(experiments[experiment_name][\"TSA\"]):\n",
    "        numberOfTypicalPeriods=experiments[experiment_name][\"TSA\"][\"numberOfTypicalPeriods\"]\n",
    "        print(f\"Number of Typical Periods: {numberOfTypicalPeriods}\")\n",
    "        numberOfSegmentsPerPeriod=experiments[experiment_name][\"TSA\"][\"numberOfSegmentsPerPeriod\"]\n",
    "        print(f\"Number of Segments Per Period: {numberOfSegmentsPerPeriod}\")\n",
    "        #TODO replace cluster() with aggregateTemporally ()\n",
    "        # esM.aggregateTemporally(numberOfTypicalPeriods=12)\n",
    "        if experiments[experiment_name][\"TSA\"][\"numberOfSegmentsPerPeriod\"] < 24:\n",
    "            segmentation=True\n",
    "        _esM.aggregateTemporally(\n",
    "            numberOfTypicalPeriods=numberOfTypicalPeriods,\n",
    "            numberOfTimeStepsPerPeriod=24,\n",
    "            storeTSAinstance=False,\n",
    "            segmentation=segmentation,\n",
    "            numberOfSegmentsPerPeriod=numberOfSegmentsPerPeriod,\n",
    "            clusterMethod=\"hierarchical\",\n",
    "            representationMethod=\"durationRepresentation\",\n",
    "            # representationMethod=\"distributionAndMinMaxRepresentation\",\n",
    "            sortValues=False,\n",
    "            rescaleClusterPeriods=False\n",
    "            # rescaleClusterPeriods=True\n",
    "            )\n",
    "    return _esM, segmentation\n",
    "\n",
    "if bool(experiments[experiment_name][\"TSA\"]):\n",
    "    print(\"Applying time series aggregation...\")\n",
    "    esM, segmentation = apply_tsa(esM)\n",
    "else:\n",
    "    segmentation = False"
   ]
  },
  {
   "cell_type": "code",
   "execution_count": null,
   "metadata": {},
   "outputs": [],
   "source": [
    "# Declaring optimization problem\n",
    "print(\"Declaring optimization problem...\\n\")\n",
    "esM.declareOptimizationProblem(\n",
    "            timeSeriesAggregation=bool(experiments[experiment_name][\"TSA\"]),\n",
    "            # segmentation=segmentation,\n",
    "            relaxIsBuiltBinary=False,\n",
    "        )"
   ]
  },
  {
   "cell_type": "code",
   "execution_count": null,
   "metadata": {},
   "outputs": [],
   "source": [
    "for term in esM.pyM.Obj.expr.args:\n",
    "    print(term)"
   ]
  },
  {
   "cell_type": "code",
   "execution_count": null,
   "metadata": {},
   "outputs": [],
   "source": [
    "# Running optimization\n",
    "try:\n",
    "    esM.optimize(timeSeriesAggregation=bool(experiments[experiment_name][\"TSA\"]), solver='gurobi',\n",
    "                optimizationSpecs='OptimalityTol=1e-6 method=2 cuts=0 crossover=0', \n",
    "                declaresOptimizationProblem=False, warmstart=False, relaxIsBuiltBinary=True, threads=0)\n",
    "except Exception as e:\n",
    "    print(e)\n",
    "    print(\"Retrying with BarHomogeneous\")\n",
    "    esM.optimize(timeSeriesAggregation=bool(experiments[experiment_name][\"TSA\"]), solver='gurobi', \n",
    "                 declaresOptimizationProblem=False, optimizationSpecs='OptimalityTol=1e-6 method=2 cuts=0 crossover=0 BarHomogeneous=1', \n",
    "                 warmstart=False, relaxIsBuiltBinary=True, threads=0)"
   ]
  },
  {
   "cell_type": "code",
   "execution_count": null,
   "metadata": {},
   "outputs": [],
   "source": [
    "# Running MGA optimization\n",
    "\n",
    "esM.mga_optimize(timeSeriesAggregation=bool(experiments[experiment_name][\"TSA\"]), solver='gurobi',\n",
    "            optimizationSpecs='OptimalityTol=1e-6 method=2 cuts=0 crossover=0',    \n",
    "            # optimizationSpecs=\"OptimalityTol=1e-3 method=2 cuts=0 MIPGap=5e-3\",\n",
    "            declaresOptimizationProblem=True, warmstart=False, threads=0,\n",
    "            slack=0.1, iterations = 4, random_seed = False,\n",
    "            operationRateinOutput = False, writeSolutionsasExcels = True)"
   ]
  }
 ],
 "metadata": {
  "kernelspec": {
   "display_name": "Python 3",
   "language": "python",
   "name": "python3"
  },
  "language_info": {
   "codemirror_mode": {
    "name": "ipython",
    "version": 3
   },
   "file_extension": ".py",
   "mimetype": "text/x-python",
   "name": "python",
   "nbconvert_exporter": "python",
   "pygments_lexer": "ipython3",
   "version": "3.10.13"
  }
 },
 "nbformat": 4,
 "nbformat_minor": 2
}
